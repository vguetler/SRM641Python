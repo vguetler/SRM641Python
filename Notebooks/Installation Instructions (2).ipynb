{
 "cells": [
  {
   "cell_type": "markdown",
   "id": "99bf02c5",
   "metadata": {},
   "source": [
    "# SRM 641 Python\n",
    "\n",
    "# Installing Python\n",
    "\n",
    "Python is a popular language for research computing, and great for general-purpose programming as well. Installing all of its research packages individually can be a bit difficult, so we recommend Anaconda, an all-in-one installer.\n",
    "\n",
    "Regardless of how you choose to install it, please make sure you install Python version 3.x (e.g., 3.10 is fine).\n",
    "\n",
    "We will learn Python using the Jupyter Notebook, a programming environment that runs in a web browser (Jupyter Notebook will be installed by Anaconda). For this to work you will need a reasonably up-to-date browser. \n",
    "\n",
    "\n",
    "## Instructions for Windows\n",
    "\n",
    "\n",
    "1. Open https://www.anaconda.com/download#download-section with your web browser.\n",
    "2. Download the Anaconda for Windows installer with Python 3. (If you are not sure which version to choose, you probably want the 64-bit Graphical Installer Anaconda3-...-Windows-x86_64.exe)\n",
    "3. Install Python 3 by running the Anaconda Installer, using all of the defaults for installation except make sure to check Add Anaconda to my PATH environment variable.\n",
    "\n",
    "Video Tutorial courtesy of Software Carpentry\n",
    "https://youtu.be/xxQ0mzZ8UvA\n",
    "\n",
    "\n",
    "## Instructions for MacOs\n",
    "\n",
    "1. Open https://www.anaconda.com/products/individual#download-section with your web browser.\n",
    "2. Download the Anaconda Installer with Python 3 for macOS (you can either use the Graphical or the Command Line Installer).\n",
    "3. Install Python 3 by running the Anaconda Installer using all of the defaults for installation.\n",
    "\n",
    "Video Tutorial courtesy of Software Carpentry\n",
    "https://youtu.be/TcSAln46u9U\n",
    "\n",
    "\n",
    "## Instructions for Linux\n",
    "\n",
    "1. Open https://www.anaconda.com/products/individual#download-section with your web browser.\n",
    "2. Download the Anaconda Installer with Python 3 for Linux.(The installation requires using the shell. If you aren't comfortable doing the installation yourself stop here and request help.)\n",
    "3. Open a terminal window and navigate to the directory where the executable is downloaded (e.g., `cd ~/Downloads`).\n",
    "    Type\n",
    "        bash Anaconda3-\n",
    "        and then press Tab to autocomplete the full file name. The name of file you just downloaded should appear.\n",
    "5. Press Enter (or Return depending on your keyboard). You will follow the text-only prompts. To move through the text, press Spacebar. Type yes and press enter to approve the license. Press Enter (or Return) to approve the default location for the files. Type yes and press Enter (or Return) to prepend Anaconda to your PATH (this makes the Anaconda distribution the default Python).\n",
    "6. Close the terminal window.\n"
   ]
  }
 ],
 "metadata": {
  "kernelspec": {
   "display_name": "Python 3 (ipykernel)",
   "language": "python",
   "name": "python3"
  },
  "language_info": {
   "codemirror_mode": {
    "name": "ipython",
    "version": 3
   },
   "file_extension": ".py",
   "mimetype": "text/x-python",
   "name": "python",
   "nbconvert_exporter": "python",
   "pygments_lexer": "ipython3",
   "version": "3.11.5"
  }
 },
 "nbformat": 4,
 "nbformat_minor": 5
}
