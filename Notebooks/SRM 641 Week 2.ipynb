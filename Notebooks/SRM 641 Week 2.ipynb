{
 "cells": [
  {
   "cell_type": "markdown",
   "id": "3c59326a",
   "metadata": {},
   "source": [
    "# SRM 641 Week 2\n",
    "\n",
    "# Functions and NumPy Arrays\n",
    "\n",
    "\n",
    "# Learning Objectives\n",
    "\n",
    "By the end of this week, you should be able to:\n",
    "\n",
    "- Use and create functions\n",
    "- Analyze NumPy arrays\n",
    "- Create NumPy arrays\n",
    "- Modify NumPy arrays\n",
    "- Index/slice NumPy arrays\n",
    "\n",
    "\n",
    "# Functions\n",
    "\n",
    "A function is a Python object that you can \"call\" to perform an action or compute and return another object. Functions are methods of code organization and reuse in Python. They are useful when you have to repeat the same or very similar code more than once. \n",
    "\n",
    "Python has several useful built-in functions to help you work with different objects and/or your environment. Here is a small sample of them:\n",
    "\n",
    "- `print(obj`) to print/return the object\n",
    "- `type(obj)` to determine the type of an object\n",
    "- `len(container`) to determine how many items are in a container\n",
    "- `callable(obj`) to determine if an object is callable\n",
    "- `sorted(container)` to return a new list from a container, with the items sorted\n",
    "- `sum(container)` to compute the sum of a container of numbers\n",
    "- `min(container)` to determine the smallest item in a container\n",
    "- `max(container)` to determine the largest item in a container\n",
    "- `abs(number)` to determine the absolute value of a number\n",
    "- `repr(obj)` to return a string representation of an object\n",
    "\n",
    "So far we've seen or worked with built functions `print()`, `len()`, `type()`, `str()`, `int()`, `float()` etc.\n",
    "\n",
    "Complete list of built-in functions can be found here: https://docs.python.org/3/library/functions.html\n"
   ]
  },
  {
   "cell_type": "markdown",
   "id": "7c2a0c5e",
   "metadata": {},
   "source": [
    "# Commonly-used built-in functions include max, min, and round.\n",
    "\n",
    "- Use `max` to find the largest value of one or more values.\n",
    "- Use `min` to find the smallest.\n",
    "- Both work on character strings as well as numbers.\n",
    "- “Larger” and “smaller” use (0-9, A-Z, a-z) to compare letters.\n"
   ]
  },
  {
   "cell_type": "code",
   "execution_count": 1,
   "id": "aa6344e4",
   "metadata": {},
   "outputs": [
    {
     "name": "stdout",
     "output_type": "stream",
     "text": [
      "3\n"
     ]
    }
   ],
   "source": [
    "print(max(1, 2, 3))"
   ]
  },
  {
   "cell_type": "code",
   "execution_count": 2,
   "id": "2fea1901",
   "metadata": {},
   "outputs": [
    {
     "name": "stdout",
     "output_type": "stream",
     "text": [
      "0\n"
     ]
    }
   ],
   "source": [
    "print(min('a', 'A', '0'))"
   ]
  },
  {
   "cell_type": "markdown",
   "id": "dc7cf6c2",
   "metadata": {},
   "source": [
    "## Functions may have default values for some arguments\n",
    "\n",
    "- `round` will round off a floating-point number.\n",
    "- By default, rounds to zero decimal places.\n"
   ]
  },
  {
   "cell_type": "code",
   "execution_count": 3,
   "id": "d6e4bd7b",
   "metadata": {},
   "outputs": [
    {
     "data": {
      "text/plain": [
       "4"
      ]
     },
     "execution_count": 3,
     "metadata": {},
     "output_type": "execute_result"
    }
   ],
   "source": [
    "round(3.712)"
   ]
  },
  {
   "cell_type": "code",
   "execution_count": 4,
   "id": "8a9aab18",
   "metadata": {},
   "outputs": [
    {
     "data": {
      "text/plain": [
       "3.7"
      ]
     },
     "execution_count": 4,
     "metadata": {},
     "output_type": "execute_result"
    }
   ],
   "source": [
    "# We can specify the number of decimal places we want\n",
    "\n",
    "round(3.712, 1)"
   ]
  },
  {
   "cell_type": "markdown",
   "id": "a4f166ae",
   "metadata": {},
   "source": [
    "## Functions attached to objects are called methods\n",
    "\n",
    "Functions take another form that will be common in the pandas episodes. Methods have parentheses like functions, but come after the variable. To access an attribute of an object, use a dot (.) after the object, then specify the attribute (i.e. obj.attribute)\n",
    "\n",
    "When an attribute of an object is a callable, that attribute is called a method. It is the same as a function, only this function is bound to a particular object.\n",
    "\n",
    "When an attribute of an object is not a callable, that attribute is called a property. It is just a piece of data about the object, that is itself another object.\n",
    "\n",
    "Some methods on string objects\n",
    "- `capitalize()` to return a capitalized version of the string (only first char uppercase)\n",
    "- `upper()` to return an uppercase version of the string (all chars uppercase)\n",
    "- `lower()` to return an lowercase version of the string (all chars lowercase)\n",
    "- `count(substring)` to return the number of occurences of the substring in the string\n",
    "- `startswith(substring)` to determine if the string starts with the substring\n",
    "- `endswith(substring)` to determine if the string ends with the substring\n",
    "- `replace(old, new)` to return a copy of the string with occurences of the \"old\" replaced by \"new\""
   ]
  },
  {
   "cell_type": "code",
   "execution_count": 5,
   "id": "d1e77cab",
   "metadata": {},
   "outputs": [],
   "source": [
    "# Assign a string to a variable\n",
    "my_string = 'this is my sTriNg'"
   ]
  },
  {
   "cell_type": "code",
   "execution_count": 6,
   "id": "0d2c488b",
   "metadata": {},
   "outputs": [
    {
     "data": {
      "text/plain": [
       "'This is my string'"
      ]
     },
     "execution_count": 6,
     "metadata": {},
     "output_type": "execute_result"
    }
   ],
   "source": [
    "# Return a capitalized version of the string\n",
    "\n",
    "my_string.capitalize()"
   ]
  },
  {
   "cell_type": "code",
   "execution_count": 7,
   "id": "fd829062",
   "metadata": {},
   "outputs": [
    {
     "data": {
      "text/plain": [
       "'THIS IS MY STRING'"
      ]
     },
     "execution_count": 7,
     "metadata": {},
     "output_type": "execute_result"
    }
   ],
   "source": [
    "# Return an uppercase version of the string\n",
    "\n",
    "my_string.upper()"
   ]
  },
  {
   "cell_type": "code",
   "execution_count": 8,
   "id": "71decd29",
   "metadata": {},
   "outputs": [
    {
     "name": "stdout",
     "output_type": "stream",
     "text": [
      "Help on built-in function min in module builtins:\n",
      "\n",
      "min(...)\n",
      "    min(iterable, *[, default=obj, key=func]) -> value\n",
      "    min(arg1, arg2, *args, *[, key=func]) -> value\n",
      "    \n",
      "    With a single iterable argument, return its smallest item. The\n",
      "    default keyword-only argument specifies an object to return if\n",
      "    the provided iterable is empty.\n",
      "    With two or more arguments, return the smallest argument.\n",
      "\n"
     ]
    }
   ],
   "source": [
    "# Use the built-in function help to get help for a function\n",
    "\n",
    "help(min)"
   ]
  },
  {
   "cell_type": "markdown",
   "id": "4b4b5012",
   "metadata": {},
   "source": [
    "# User-defined functions\n",
    "\n",
    "We'll now learn to write our own user-defined functions. Below is the syntax for defining a basic function with one input argument and one output. You can also define functions with no input or output arguments, or multiple input or output arguments.\n"
   ]
  },
  {
   "cell_type": "code",
   "execution_count": 9,
   "id": "e074096b",
   "metadata": {},
   "outputs": [],
   "source": [
    "# Functions are declared with the `def` keyword. \n",
    "# A function contains a block of code with an optional use of the return keyword\n",
    "# An argument is a value passed into a function.\n",
    "\n",
    "# The first line is a def statement, which defines a function(). \n",
    "# The code in the block that follows the def statement is the body of the function. \n",
    "# This code is executed when the function is called, not when the function is first defined.\n",
    "\n",
    "def name_of_function(arg): \n",
    "    ...\n",
    "    return(output)"
   ]
  },
  {
   "cell_type": "code",
   "execution_count": 10,
   "id": "559cbe73",
   "metadata": {},
   "outputs": [],
   "source": [
    "def name_of_function(arg1,arg2):\n",
    "    '''\n",
    "    This is where the function's Document String (docstring) goes.\n",
    "    When you call help() on your function it will be printed out.\n",
    "    '''\n",
    "    # Do stuff here\n",
    "    # Return desired result"
   ]
  },
  {
   "cell_type": "code",
   "execution_count": 11,
   "id": "77b8878a",
   "metadata": {},
   "outputs": [],
   "source": [
    "# simple function\n",
    "\n",
    "def say_hello():\n",
    "    print('hello')"
   ]
  },
  {
   "cell_type": "code",
   "execution_count": 12,
   "id": "aed348a1",
   "metadata": {},
   "outputs": [
    {
     "name": "stdout",
     "output_type": "stream",
     "text": [
      "hello\n"
     ]
    }
   ],
   "source": [
    "# Call the function\n",
    "\n",
    "say_hello()"
   ]
  },
  {
   "cell_type": "markdown",
   "id": "07100010",
   "metadata": {},
   "source": [
    "Accepting parameters (arguments): "
   ]
  },
  {
   "cell_type": "code",
   "execution_count": 13,
   "id": "46854719",
   "metadata": {},
   "outputs": [],
   "source": [
    "# We can write functions with one input and one output argument\n",
    "\n",
    "def square(x):\n",
    "    a_sqr= x * x\n",
    "    return(a_sqr)"
   ]
  },
  {
   "cell_type": "markdown",
   "id": "f4d09594",
   "metadata": {},
   "source": [
    "So far we've only seen `print()` used, but if we actually want to save the resulting variable we need to use the return keyword. Return allows a function to return a result that can then be stored as a variable, or used in whatever manner a user wants. The return keyword allows you to actually save the result of the output of a function as a variable. The print() function simply displays the output to you, but doesn't save it for future use"
   ]
  },
  {
   "cell_type": "code",
   "execution_count": 14,
   "id": "a525da6e",
   "metadata": {},
   "outputs": [
    {
     "data": {
      "text/plain": [
       "100"
      ]
     },
     "execution_count": 14,
     "metadata": {},
     "output_type": "execute_result"
    }
   ],
   "source": [
    "# Call the function\n",
    "\n",
    "square(10)"
   ]
  },
  {
   "cell_type": "code",
   "execution_count": 15,
   "id": "98ef6370",
   "metadata": {},
   "outputs": [],
   "source": [
    "# Another function that converts fahrenheit to celcius\n",
    "\n",
    "def fahr_to_celsius(temp):\n",
    "    # Assign the converted value to a variable\n",
    "    converted = ((temp - 32) * (5/9))\n",
    "    # Return the value of the new variable\n",
    "    return converted\n"
   ]
  },
  {
   "cell_type": "markdown",
   "id": "d1cd1cf0",
   "metadata": {},
   "source": [
    "The function definition opens with the keyword def followed by the name of the function (fahr_to_celsius) and a parenthesized list of parameter names (temp). The body of the function — the statements that are executed when it runs — is indented below the definition line. The body concludes with a return keyword followed by the return value."
   ]
  },
  {
   "cell_type": "code",
   "execution_count": 16,
   "id": "af2289d4",
   "metadata": {},
   "outputs": [
    {
     "data": {
      "text/plain": [
       "0.0"
      ]
     },
     "execution_count": 16,
     "metadata": {},
     "output_type": "execute_result"
    }
   ],
   "source": [
    "# run the function\n",
    "\n",
    "fahr_to_celsius(32)"
   ]
  },
  {
   "cell_type": "code",
   "execution_count": 17,
   "id": "aa55907d",
   "metadata": {},
   "outputs": [
    {
     "name": "stdout",
     "output_type": "stream",
     "text": [
      "freezing point of water: 0.0 C\n"
     ]
    }
   ],
   "source": [
    "# using two functions\n",
    "\n",
    "print('freezing point of water:', fahr_to_celsius(32), 'C')"
   ]
  },
  {
   "cell_type": "markdown",
   "id": "6f51ea8c",
   "metadata": {},
   "source": [
    "## NumPy Basics\n",
    "\n",
    "NumPy (Numerical Python), is one of the most important foundational packages for numerical computing in Python. \n",
    "\n",
    "While NumPy by itself does not provide modeling or scientific functionality, having an understanding of NumPy arrays and array-oriented computing will help you use tools with array computing semantics, like pandas, much more effectively.\n",
    "\n",
    "See https://numpy.org/doc/stable/ for more info about NumPy.\n",
    "\n",
    "In general, you should use NumPy when your data is composed of matrices or arrays.\n",
    "\n",
    "One of the key features of NumPy is its N-dimensional array object, or ndarray, which is a fast, flexible container for large datasets in Python. Arrays enable you to perform mathematical operations on whole blocks of data using similar syntax to the equivalent operations between scalar elements."
   ]
  },
  {
   "cell_type": "markdown",
   "id": "2ed04ca7",
   "metadata": {},
   "source": [
    "### Install NumPy on Anaconda\n",
    "\n",
    "If you installed the Anaconda distribution of Python, NumPy comes pre-installed and no further installation steps are necessary.\n",
    "\n",
    "If you use a version of Python from python.org or a version of Python that came with your operating system, the Anaconda Prompt and conda or pip can be used to install NumPy.\n",
    "\n",
    "Install NumPy with the Anaconda Prompt\n",
    "To install NumPy, open the Anaconda Prompt and type:\n",
    "\n",
    "`conda install numpy`\n",
    "\n",
    "Type y for yes when prompted.\n",
    "\n",
    "Install NumPy with pip\n",
    "To install NumPy with pip, bring up a terminal window and type:\n",
    "\n",
    "`$ pip install numpy`"
   ]
  },
  {
   "cell_type": "code",
   "execution_count": 18,
   "id": "fb9d8675",
   "metadata": {},
   "outputs": [],
   "source": [
    "# First import the library numpy as np\n",
    "# Before you can use the functions in a module, you must import the module with an import statement. \n",
    "# In code, an import statement consists of the following:\n",
    "\n",
    "# The import keyword\n",
    "# The name of the module\n",
    "# Optionally, more module names, as long as they are separated by commas\n",
    "\n",
    "import numpy as np"
   ]
  },
  {
   "cell_type": "code",
   "execution_count": 19,
   "id": "342776c3",
   "metadata": {},
   "outputs": [
    {
     "name": "stdout",
     "output_type": "stream",
     "text": [
      "1.24.3\n"
     ]
    }
   ],
   "source": [
    "# print the version number of numpy\n",
    "\n",
    "print(np.__version__)"
   ]
  },
  {
   "cell_type": "markdown",
   "id": "5dfa54e2",
   "metadata": {},
   "source": [
    "### List vs NumPy Arrays\n",
    "\n",
    "NumPy is used to construct homogeneous arrays and perform mathematical operations on arrays. A NumPy array is different from a Python list. The data types stored in a Python list can all be different."
   ]
  },
  {
   "cell_type": "code",
   "execution_count": 20,
   "id": "a7d06e41",
   "metadata": {},
   "outputs": [],
   "source": [
    "# Create a list\n",
    "\n",
    "my_list = [ 1, -0.038, 'school', True]"
   ]
  },
  {
   "cell_type": "markdown",
   "id": "cdf83a37",
   "metadata": {},
   "source": [
    "The list above contains four different data types: 1 is an integer, -0.038 is a float, 'school' is a string, and 'True' is a boolean."
   ]
  },
  {
   "cell_type": "code",
   "execution_count": 21,
   "id": "56f3be31",
   "metadata": {},
   "outputs": [
    {
     "name": "stdout",
     "output_type": "stream",
     "text": [
      "<class 'int'>\n",
      "<class 'float'>\n",
      "<class 'str'>\n",
      "<class 'bool'>\n"
     ]
    }
   ],
   "source": [
    "# Check the data type type \n",
    "\n",
    "my_list = [1, -0.038, 'school', True]\n",
    "for item in my_list:\n",
    "    print(type(item))"
   ]
  },
  {
   "cell_type": "markdown",
   "id": "07f80af0",
   "metadata": {},
   "source": [
    "The values stored in a NumPy array must all share the same data type."
   ]
  },
  {
   "cell_type": "code",
   "execution_count": 22,
   "id": "4433b437",
   "metadata": {},
   "outputs": [],
   "source": [
    "# Create an array \n",
    "\n",
    "data = np.array([[1.5, -0.1, 3], [0, -3, 6.5]])"
   ]
  },
  {
   "cell_type": "code",
   "execution_count": 23,
   "id": "e0e7a6da",
   "metadata": {},
   "outputs": [
    {
     "data": {
      "text/plain": [
       "array([[ 1.5, -0.1,  3. ],\n",
       "       [ 0. , -3. ,  6.5]])"
      ]
     },
     "execution_count": 23,
     "metadata": {},
     "output_type": "execute_result"
    }
   ],
   "source": [
    "# View the data\n",
    "\n",
    "data"
   ]
  },
  {
   "cell_type": "markdown",
   "id": "41e574ba",
   "metadata": {},
   "source": [
    "Every array has a shape, a tuple indicating the size of each dimension, and a dtype, an object describing the data type of the array"
   ]
  },
  {
   "cell_type": "code",
   "execution_count": 24,
   "id": "7a606c87",
   "metadata": {},
   "outputs": [
    {
     "data": {
      "text/plain": [
       "(2, 3)"
      ]
     },
     "execution_count": 24,
     "metadata": {},
     "output_type": "execute_result"
    }
   ],
   "source": [
    "# Checking the shape of data\n",
    "\n",
    "data.shape   #2 rows, 3 columns"
   ]
  },
  {
   "cell_type": "code",
   "execution_count": 25,
   "id": "57987b4d",
   "metadata": {},
   "outputs": [
    {
     "data": {
      "text/plain": [
       "2"
      ]
     },
     "execution_count": 25,
     "metadata": {},
     "output_type": "execute_result"
    }
   ],
   "source": [
    "# check dimension\n",
    "\n",
    "data.ndim"
   ]
  },
  {
   "cell_type": "code",
   "execution_count": 26,
   "id": "b24c3b56",
   "metadata": {},
   "outputs": [
    {
     "data": {
      "text/plain": [
       "dtype('float64')"
      ]
     },
     "execution_count": 26,
     "metadata": {},
     "output_type": "execute_result"
    }
   ],
   "source": [
    "# Check the data type\n",
    "\n",
    "data.dtype"
   ]
  },
  {
   "cell_type": "code",
   "execution_count": 27,
   "id": "3caed6ed",
   "metadata": {},
   "outputs": [],
   "source": [
    "# Arithmetic with numPy arrays\n",
    "\n",
    "arr = np.array([[1., 2., 3.], [4., 5., 6.]])"
   ]
  },
  {
   "cell_type": "code",
   "execution_count": 28,
   "id": "cb09dc34",
   "metadata": {},
   "outputs": [
    {
     "data": {
      "text/plain": [
       "array([[1., 2., 3.],\n",
       "       [4., 5., 6.]])"
      ]
     },
     "execution_count": 28,
     "metadata": {},
     "output_type": "execute_result"
    }
   ],
   "source": [
    "arr"
   ]
  },
  {
   "cell_type": "code",
   "execution_count": 29,
   "id": "828880d1",
   "metadata": {},
   "outputs": [
    {
     "data": {
      "text/plain": [
       "array([[ 1.,  4.,  9.],\n",
       "       [16., 25., 36.]])"
      ]
     },
     "execution_count": 29,
     "metadata": {},
     "output_type": "execute_result"
    }
   ],
   "source": [
    "# Multiple the arrays\n",
    "\n",
    "arr * arr"
   ]
  },
  {
   "cell_type": "markdown",
   "id": "42fcba07",
   "metadata": {},
   "source": [
    "\n",
    "# Analyzing Data using NumPy\n",
    "\n",
    "We are going to analyze some data using numPy. The CSV file contains the number of inflammation flare-ups per day for the 60 patients in the initial clinical trial, with the trial lasting 40 days. Each row corresponds to a patient, and each column corresponds to a day in the trial. Once a patient has their first inflammation flare-up they take the medication and wait a few weeks for it to take effect and reduce flare-ups.\n",
    "\n",
    "Download the data from Canvas."
   ]
  },
  {
   "cell_type": "code",
   "execution_count": 30,
   "id": "20bb68eb",
   "metadata": {},
   "outputs": [
    {
     "data": {
      "text/plain": [
       "array([[0., 0., 1., ..., 3., 0., 0.],\n",
       "       [0., 1., 2., ..., 1., 0., 1.],\n",
       "       [0., 1., 1., ..., 2., 1., 1.],\n",
       "       ...,\n",
       "       [0., 1., 1., ..., 1., 1., 1.],\n",
       "       [0., 0., 0., ..., 0., 2., 0.],\n",
       "       [0., 0., 1., ..., 1., 1., 0.]])"
      ]
     },
     "execution_count": 30,
     "metadata": {},
     "output_type": "execute_result"
    }
   ],
   "source": [
    "np.loadtxt(fname='Data/inflammation-01.csv', delimiter=',')"
   ]
  },
  {
   "cell_type": "markdown",
   "id": "8028b5a7",
   "metadata": {},
   "source": [
    "The expression `np.loadtxt(...)` is a function call that asks Python to run the function `loadtxt` which belongs to the numpy library. The dot notation in Python is used as an object attribute/property specifier or for invoking its method. `object.property` will give you the `object.property` value, `object_name.method()` will invoke on object_name method.\n",
    "\n",
    "`np.loadtxt` has two parameters: the name of the file we want to read and the delimiter that separates values on a line. These both need to be character strings (or strings for short), so we put them in quotes.\n",
    "\n",
    "Since we haven’t told it to do anything else with the function’s output, the notebook displays it. In this case, the output is the data we just loaded. By default, only a few rows and columns are shown (with ... to omit elements when displaying big arrays). Note that, to save space when displaying NumPy arrays, Python does not show us trailing zeros, so 1.0 becomes 1.."
   ]
  },
  {
   "cell_type": "markdown",
   "id": "8af4c85c",
   "metadata": {},
   "source": [
    "Our call to `np.loadtxt` read our file but didn’t save the data in memory. To do that, we need to assign the array to a variable."
   ]
  },
  {
   "cell_type": "code",
   "execution_count": 31,
   "id": "6908b9ca",
   "metadata": {},
   "outputs": [],
   "source": [
    "# Load the file and save it \n",
    "\n",
    "data = np.loadtxt(fname = 'Data/inflammation-01.csv', delimiter = ',')"
   ]
  },
  {
   "cell_type": "code",
   "execution_count": 32,
   "id": "e9a220f0",
   "metadata": {},
   "outputs": [
    {
     "name": "stdout",
     "output_type": "stream",
     "text": [
      "[[0. 0. 1. ... 3. 0. 0.]\n",
      " [0. 1. 2. ... 1. 0. 1.]\n",
      " [0. 1. 1. ... 2. 1. 1.]\n",
      " ...\n",
      " [0. 1. 1. ... 1. 1. 1.]\n",
      " [0. 0. 0. ... 0. 2. 0.]\n",
      " [0. 0. 1. ... 1. 1. 0.]]\n"
     ]
    }
   ],
   "source": [
    "# If we want to check if its loaded we can print\n",
    "\n",
    "print(data)"
   ]
  },
  {
   "cell_type": "code",
   "execution_count": 33,
   "id": "b713bd5e",
   "metadata": {},
   "outputs": [
    {
     "data": {
      "text/plain": [
       "array([[0., 0., 1., ..., 3., 0., 0.],\n",
       "       [0., 1., 2., ..., 1., 0., 1.],\n",
       "       [0., 1., 1., ..., 2., 1., 1.],\n",
       "       ...,\n",
       "       [0., 1., 1., ..., 1., 1., 1.],\n",
       "       [0., 0., 0., ..., 0., 2., 0.],\n",
       "       [0., 0., 1., ..., 1., 1., 0.]])"
      ]
     },
     "execution_count": 33,
     "metadata": {},
     "output_type": "execute_result"
    }
   ],
   "source": [
    "data"
   ]
  },
  {
   "cell_type": "code",
   "execution_count": 34,
   "id": "fe84d9f4",
   "metadata": {},
   "outputs": [
    {
     "data": {
      "text/plain": [
       "numpy.ndarray"
      ]
     },
     "execution_count": 34,
     "metadata": {},
     "output_type": "execute_result"
    }
   ],
   "source": [
    "# we can check the data type\n",
    "\n",
    "type(data)"
   ]
  },
  {
   "cell_type": "markdown",
   "id": "debb0303",
   "metadata": {},
   "source": [
    "Data is in an N-dimensional array, the functionality for which is provided by the NumPy library"
   ]
  },
  {
   "cell_type": "markdown",
   "id": "fc745359",
   "metadata": {},
   "source": [
    "A Numpy array contains one or more elements of the same type. The type function will only tell you that a variable is a NumPy array but won’t tell you the type of thing inside the array. We can find out the type of the data contained in the NumPy array."
   ]
  },
  {
   "cell_type": "code",
   "execution_count": 35,
   "id": "a831afe3",
   "metadata": {},
   "outputs": [
    {
     "name": "stdout",
     "output_type": "stream",
     "text": [
      "float64\n"
     ]
    }
   ],
   "source": [
    "print(data.dtype)"
   ]
  },
  {
   "cell_type": "markdown",
   "id": "b31d4359",
   "metadata": {},
   "source": [
    "This tells us that the NumPy array’s elements are floating-point numbers."
   ]
  },
  {
   "cell_type": "code",
   "execution_count": 36,
   "id": "d55afda3",
   "metadata": {},
   "outputs": [
    {
     "data": {
      "text/plain": [
       "(60, 40)"
      ]
     },
     "execution_count": 36,
     "metadata": {},
     "output_type": "execute_result"
    }
   ],
   "source": [
    "# We can also check the array's shape\n",
    "\n",
    "data.shape"
   ]
  },
  {
   "cell_type": "markdown",
   "id": "6ece7722",
   "metadata": {},
   "source": [
    "The output tells us that the data array variable contains 60 rows and 40 columns"
   ]
  },
  {
   "cell_type": "markdown",
   "id": "5338413b",
   "metadata": {},
   "source": [
    "### Slicing or Selecting Data\n",
    "\n",
    "Multiple values stored within an array can be accessed simultaneously with array slicing. To pull out a section or slice of an array, the colon operator `:` is used when calling the `index`. The general form is: `<slice> = <array>[start:stop]`\n",
    "\n",
    "Where `<slice>` is the slice or section of the array object `<array>`. The index of the slice is specified in `[start:stop]`. Remember Python counting starts at 0 and ends at n-1. The index `[0:2]` pulls the first two values out of an array. The index `[1:3]` pulls the second and third values out of an array.\n",
    "\n",
    "On either sides of the colon, a blank stands for \"default\".\n",
    "\n",
    "- `[:4]` corresponds to `[start=default:stop=4]`\n",
    "- `[1:]` corresponds to `[start=1:stop=default]`\n",
    "\n",
    "Therefore, the slicing operation `[:4]` pulls out the first to fourth values in an array. The slicing operation `[1:]` pull out the second through the last values in an array.\n",
    "\n",
    "\n",
    "Our inflammation data has two dimensions, so we will need to use two indices to refer to one specific value: \n",
    "<br>\n",
    "\n",
    "- `<slice> = <array>[start_row:end_row, start_col:end_col]`"
   ]
  },
  {
   "cell_type": "code",
   "execution_count": 37,
   "id": "419e714b",
   "metadata": {},
   "outputs": [
    {
     "data": {
      "text/plain": [
       "0.0"
      ]
     },
     "execution_count": 37,
     "metadata": {},
     "output_type": "execute_result"
    }
   ],
   "source": [
    "# if we want to print the first value \n",
    "\n",
    "data[0, 0]  # first row, first column"
   ]
  },
  {
   "cell_type": "code",
   "execution_count": 38,
   "id": "4787a1c9",
   "metadata": {},
   "outputs": [
    {
     "name": "stdout",
     "output_type": "stream",
     "text": [
      "first value in data: 0.0\n"
     ]
    }
   ],
   "source": [
    "print('first value in data:', data[0, 0])"
   ]
  },
  {
   "cell_type": "code",
   "execution_count": 39,
   "id": "899b967b",
   "metadata": {},
   "outputs": [
    {
     "name": "stdout",
     "output_type": "stream",
     "text": [
      "middle value in data: 16.0\n"
     ]
    }
   ],
   "source": [
    "# Check the middle value\n",
    "\n",
    "print('middle value in data:', data[29, 19])"
   ]
  },
  {
   "cell_type": "markdown",
   "id": "9ebbdfe9",
   "metadata": {},
   "source": [
    "The code `data[29, 19]` accesses the element at row 30, column 20. Python starts counting at 0 unlike R or other languages that start counting at 1."
   ]
  },
  {
   "cell_type": "markdown",
   "id": "7b89daab",
   "metadata": {},
   "source": [
    "An index like `[30, 20]` selects a single element of an array, but we can select whole sections as well. "
   ]
  },
  {
   "cell_type": "code",
   "execution_count": 40,
   "id": "3fd96905",
   "metadata": {},
   "outputs": [
    {
     "data": {
      "text/plain": [
       "array([[0., 0., 1., 3., 1., 2., 4., 7., 8., 3.],\n",
       "       [0., 1., 2., 1., 2., 1., 3., 2., 2., 6.],\n",
       "       [0., 1., 1., 3., 3., 2., 6., 2., 5., 9.],\n",
       "       [0., 0., 2., 0., 4., 2., 2., 1., 6., 7.]])"
      ]
     },
     "execution_count": 40,
     "metadata": {},
     "output_type": "execute_result"
    }
   ],
   "source": [
    "# For example, we can select the first ten days (columns) of values for the first four patients (rows) like this:\n",
    "    \n",
    "data[0:4, 0:10]"
   ]
  },
  {
   "cell_type": "markdown",
   "id": "976960e3",
   "metadata": {},
   "source": [
    "The slice 0:4 means, “Start at index 0 and go up to, but not including, index 4”."
   ]
  },
  {
   "cell_type": "code",
   "execution_count": 41,
   "id": "4cd1d37f",
   "metadata": {},
   "outputs": [
    {
     "data": {
      "text/plain": [
       "array([[0., 0., 1., 2., 2., 4., 2., 1., 6., 4.],\n",
       "       [0., 0., 2., 2., 4., 2., 2., 5., 5., 8.],\n",
       "       [0., 0., 1., 2., 3., 1., 2., 3., 5., 3.],\n",
       "       [0., 0., 0., 3., 1., 5., 6., 5., 5., 8.],\n",
       "       [0., 1., 1., 2., 1., 3., 5., 3., 5., 8.]])"
      ]
     },
     "execution_count": 41,
     "metadata": {},
     "output_type": "execute_result"
    }
   ],
   "source": [
    "# slice/select from row 5 to 10, columns 0 to 10\n",
    "\n",
    "data[5:10, 0:10]"
   ]
  },
  {
   "cell_type": "code",
   "execution_count": null,
   "id": "9adff515",
   "metadata": {},
   "outputs": [],
   "source": [
    "# Exercise 1\n",
    "\n",
    "# complete the code. Insert the correct syntax for printing the number 50 from the array\n",
    "arr = np.array([10, 20, 30, 40, 50, 60, 70])\n",
    "\n",
    "print(arr[_____  ])"
   ]
  },
  {
   "cell_type": "code",
   "execution_count": null,
   "id": "d75d23d2",
   "metadata": {},
   "outputs": [],
   "source": [
    "# Exercise 2\n",
    "\n",
    "# Insert the correct syntax for printing the number 50 from the array.\n",
    "\n",
    "arr = np.array([[10, 20, 30, 40], [50, 60, 70, 80]])\n",
    "\n",
    "print(arr[_____])"
   ]
  },
  {
   "cell_type": "markdown",
   "id": "3407f605",
   "metadata": {},
   "source": [
    "## Analyzing data\n",
    "\n",
    "NumPy has several useful functions that take an array as input to perform operations on its values. If we want to find the average inflammation for all patients on all days, for example, we can ask NumPy to compute data’s mean value:"
   ]
  },
  {
   "cell_type": "code",
   "execution_count": 43,
   "id": "93c32eab",
   "metadata": {},
   "outputs": [
    {
     "data": {
      "text/plain": [
       "6.14875"
      ]
     },
     "execution_count": 43,
     "metadata": {},
     "output_type": "execute_result"
    }
   ],
   "source": [
    "# check the mean\n",
    "\n",
    "np.mean(data)"
   ]
  },
  {
   "cell_type": "code",
   "execution_count": 44,
   "id": "b2064529",
   "metadata": {},
   "outputs": [
    {
     "data": {
      "text/plain": [
       "20.0"
      ]
     },
     "execution_count": 44,
     "metadata": {},
     "output_type": "execute_result"
    }
   ],
   "source": [
    "# check the max\n",
    "\n",
    "np.max(data)"
   ]
  },
  {
   "cell_type": "code",
   "execution_count": 45,
   "id": "dc5a3c82",
   "metadata": {},
   "outputs": [
    {
     "data": {
      "text/plain": [
       "0.0"
      ]
     },
     "execution_count": 45,
     "metadata": {},
     "output_type": "execute_result"
    }
   ],
   "source": [
    "# Check the min\n",
    "\n",
    "np.min(data)"
   ]
  },
  {
   "cell_type": "code",
   "execution_count": 46,
   "id": "a051e251",
   "metadata": {},
   "outputs": [
    {
     "data": {
      "text/plain": [
       "4.613833197118566"
      ]
     },
     "execution_count": 46,
     "metadata": {},
     "output_type": "execute_result"
    }
   ],
   "source": [
    "# Check the standard deviation\n",
    "\n",
    "np.std(data)"
   ]
  },
  {
   "cell_type": "markdown",
   "id": "78e81de7",
   "metadata": {},
   "source": [
    "When analyzing data we often want to look at variations in statistical values, such as the maximum inflammation per patient or the average inflammation per day. One way to do this is to create a new subset array of the data we want, then ask it to do the calculation."
   ]
  },
  {
   "cell_type": "code",
   "execution_count": 47,
   "id": "38455551",
   "metadata": {},
   "outputs": [],
   "source": [
    "# Create a subset of only patient 0\n",
    "\n",
    "patient_0 = data[0, :] # 0 on the first axis (rows), everything on the second (columns)"
   ]
  },
  {
   "cell_type": "code",
   "execution_count": 48,
   "id": "8cf3eae3",
   "metadata": {},
   "outputs": [
    {
     "data": {
      "text/plain": [
       "array([ 0.,  0.,  1.,  3.,  1.,  2.,  4.,  7.,  8.,  3.,  3.,  3., 10.,\n",
       "        5.,  7.,  4.,  7.,  7., 12., 18.,  6., 13., 11., 11.,  7.,  7.,\n",
       "        4.,  6.,  8.,  8.,  4.,  4.,  5.,  7.,  3.,  4.,  2.,  3.,  0.,\n",
       "        0.])"
      ]
     },
     "execution_count": 48,
     "metadata": {},
     "output_type": "execute_result"
    }
   ],
   "source": [
    "patient_0"
   ]
  },
  {
   "cell_type": "code",
   "execution_count": 49,
   "id": "47b2ca58",
   "metadata": {},
   "outputs": [
    {
     "data": {
      "text/plain": [
       "18.0"
      ]
     },
     "execution_count": 49,
     "metadata": {},
     "output_type": "execute_result"
    }
   ],
   "source": [
    "# maximum inflammation for patient 0\n",
    "\n",
    "max(patient_0)"
   ]
  },
  {
   "cell_type": "code",
   "execution_count": 50,
   "id": "55e76e1a",
   "metadata": {},
   "outputs": [
    {
     "data": {
      "text/plain": [
       "19.0"
      ]
     },
     "execution_count": 50,
     "metadata": {},
     "output_type": "execute_result"
    }
   ],
   "source": [
    "# you dont have to save the subset, you can directly select and print patient 2 info\n",
    "\n",
    "np.max(data[2, :])"
   ]
  },
  {
   "cell_type": "markdown",
   "id": "8fa84313",
   "metadata": {},
   "source": [
    "\n",
    "To calculate statistics on two-dimensional arrays, you can use the axis argument in the same functions (e.g. np.max) to specify which axis you would like to summarize:\n",
    "\n",
    "- vertical axis downwards, summarizing across rows (axis=0)\n",
    "- hortizontal axis, summarizing across columns (axis=1)\n",
    "\n",
    "\n",
    "What if we need the maximum inflammation for each patient over all days or the average for each day? We want to perform the operation across an axis:"
   ]
  },
  {
   "cell_type": "code",
   "execution_count": 51,
   "id": "d5cfeb7d",
   "metadata": {},
   "outputs": [
    {
     "data": {
      "text/plain": [
       "array([ 0.        ,  0.45      ,  1.11666667,  1.75      ,  2.43333333,\n",
       "        3.15      ,  3.8       ,  3.88333333,  5.23333333,  5.51666667,\n",
       "        5.95      ,  5.9       ,  8.35      ,  7.73333333,  8.36666667,\n",
       "        9.5       ,  9.58333333, 10.63333333, 11.56666667, 12.35      ,\n",
       "       13.25      , 11.96666667, 11.03333333, 10.16666667, 10.        ,\n",
       "        8.66666667,  9.15      ,  7.25      ,  7.33333333,  6.58333333,\n",
       "        6.06666667,  5.95      ,  5.11666667,  3.6       ,  3.3       ,\n",
       "        3.56666667,  2.48333333,  1.5       ,  1.13333333,  0.56666667])"
      ]
     },
     "execution_count": 51,
     "metadata": {},
     "output_type": "execute_result"
    }
   ],
   "source": [
    "# Calculate the average across axis 0 (across rows)\n",
    "# By using np.mean(array, axis=0), you are requesting the avg value from each column across all rows of data. \n",
    "\n",
    "\n",
    "np.mean(data, axis=0)"
   ]
  },
  {
   "cell_type": "code",
   "execution_count": 52,
   "id": "9e9d79ad",
   "metadata": {},
   "outputs": [
    {
     "data": {
      "text/plain": [
       "(40,)"
      ]
     },
     "execution_count": 52,
     "metadata": {},
     "output_type": "execute_result"
    }
   ],
   "source": [
    "# We can check the shape\n",
    "\n",
    "np.mean(data, axis=0).shape # 40 are the rows"
   ]
  },
  {
   "cell_type": "markdown",
   "id": "0b09985e",
   "metadata": {},
   "source": [
    "The expression (40,) tells us we have an N×1 vector."
   ]
  },
  {
   "cell_type": "code",
   "execution_count": 53,
   "id": "ca5e102e",
   "metadata": {},
   "outputs": [
    {
     "data": {
      "text/plain": [
       "array([5.45 , 5.425, 6.1  , 5.9  , 5.55 , 6.225, 5.975, 6.65 , 6.625,\n",
       "       6.525, 6.775, 5.8  , 6.225, 5.75 , 5.225, 6.3  , 6.55 , 5.7  ,\n",
       "       5.85 , 6.55 , 5.775, 5.825, 6.175, 6.1  , 5.8  , 6.425, 6.05 ,\n",
       "       6.025, 6.175, 6.55 , 6.175, 6.35 , 6.725, 6.125, 7.075, 5.725,\n",
       "       5.925, 6.15 , 6.075, 5.75 , 5.975, 5.725, 6.3  , 5.9  , 6.75 ,\n",
       "       5.925, 7.225, 6.15 , 5.95 , 6.275, 5.7  , 6.1  , 6.825, 5.975,\n",
       "       6.725, 5.7  , 6.25 , 6.4  , 7.05 , 5.9  ])"
      ]
     },
     "execution_count": 53,
     "metadata": {},
     "output_type": "execute_result"
    }
   ],
   "source": [
    "# We can average across axis 1 (columns)to get the average inflammation per patient across all days.\n",
    "\n",
    "np.mean(data, axis=1)"
   ]
  },
  {
   "cell_type": "code",
   "execution_count": 54,
   "id": "8b7eef03",
   "metadata": {},
   "outputs": [
    {
     "data": {
      "text/plain": [
       "(60,)"
      ]
     },
     "execution_count": 54,
     "metadata": {},
     "output_type": "execute_result"
    }
   ],
   "source": [
    "# Check the shape\n",
    "\n",
    "np.mean(data, axis = 1).shape"
   ]
  },
  {
   "cell_type": "markdown",
   "id": "fccce49a",
   "metadata": {},
   "source": [
    "## Key points:\n",
    "    \n",
    "- Import a library into a program using import libraryname.\n",
    "- Use the numpy library to work with arrays in Python.\n",
    "- The expression array.shape gives the shape of an array.\n",
    "- Use array[x, y] to select a single element from a 2D array.\n",
    "- Array indices start at 0, not 1.\n",
    "- Use low:high to specify a slice that includes the indices from low to high-1.\n",
    "- Use # some kind of explanation to add comments to programs.\n",
    "- Use np.mean(array), np.max(array), and np.min(array) to calculate simple statistics.\n",
    "- Use numpy.mean(array, axis=0) or numpy.mean(array, axis=1) to calculate statistics across the specified axis."
   ]
  },
  {
   "cell_type": "markdown",
   "id": "f42e462e",
   "metadata": {},
   "source": [
    "References:\n",
    "For more about functions and numpy, see:\n",
    "- Python for Data Analysis by Wes McKinney\n",
    "- Automating the Boring Stuff by Al Sweigert, Ch. 3\n",
    "https://problemsolvingwithpython.com/05-NumPy-and-Arrays/05.00-Introduction/\n"
   ]
  }
 ],
 "metadata": {
  "kernelspec": {
   "display_name": "Python 3 (ipykernel)",
   "language": "python",
   "name": "python3"
  },
  "language_info": {
   "codemirror_mode": {
    "name": "ipython",
    "version": 3
   },
   "file_extension": ".py",
   "mimetype": "text/x-python",
   "name": "python",
   "nbconvert_exporter": "python",
   "pygments_lexer": "ipython3",
   "version": "3.11.5"
  }
 },
 "nbformat": 4,
 "nbformat_minor": 5
}
